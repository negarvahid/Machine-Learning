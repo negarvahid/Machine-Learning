{
 "cells": [
  {
   "cell_type": "markdown",
   "metadata": {},
   "source": [
    "# Lecture 2.3: Tabular Data Pt.2\n",
    "\n",
    "\n",
    "This lecture, we are going to **explore** the top 50 songs of 2019 spotify [dataset](https://www.kaggle.com/leonardopena/top50spotify2019) with [pandas](https://pandas.pydata.org/).\n",
    "\n",
    "**Learning goals:**\n",
    "- Calculate column statistics\n",
    "- Group and aggregate rows\n",
    "- Investigate how variables relate\n",
    "- Calculate a new variable\n",
    "- Answer questions about the dataset\n",
    "\n",
    "---\n",
    "\n",
    "## 1. Summary Statistics\n",
    "\n",
    "In lecture 2.2, we saw a couple of tricks to get insights into large datasets. The `.head()` method on `DataFrame` could get us an overview of the columns and the type of data that they hold. The selection methods `[]`, `.loc[]`, and `.iloc[]` allowed us to focus on specific parts of the dataset. Finally, we showed that the `df.plot.line()` method could be used to visualise numeric columns. \n",
    "\n",
    "However, it still feels like we are mostly blind to what kind of data is actually held in the dataframe. What's the most common `Genre`? The minimum value of `Liveness`? What's the range of `Danceability`?  This might be somewhat obvious for well known variables like `Beats.Per.Minute`, but we'll often come across variables that we have no intuition for. Therefore being able to _summarize_ the main statistical attributes of each column is key to _understand_ the dataset better. This, in turn, will allow us to _use_ it more effectively in downstream tasks.\n",
    "\n",
    "Once again, let's load and inspect our [top 50 spotify songs of 2019](https://www.kaggle.com/leonardopena/top50spotify2019) dataset:"
   ]
  },
  {
   "cell_type": "code",
   "execution_count": 1,
   "metadata": {},
   "outputs": [
    {
     "data": {
      "text/html": [
       "<div>\n",
       "<style scoped>\n",
       "    .dataframe tbody tr th:only-of-type {\n",
       "        vertical-align: middle;\n",
       "    }\n",
       "\n",
       "    .dataframe tbody tr th {\n",
       "        vertical-align: top;\n",
       "    }\n",
       "\n",
       "    .dataframe thead th {\n",
       "        text-align: right;\n",
       "    }\n",
       "</style>\n",
       "<table border=\"1\" class=\"dataframe\">\n",
       "  <thead>\n",
       "    <tr style=\"text-align: right;\">\n",
       "      <th></th>\n",
       "      <th>Unnamed: 0</th>\n",
       "      <th>Track.Name</th>\n",
       "      <th>Artist.Name</th>\n",
       "      <th>Genre</th>\n",
       "      <th>Beats.Per.Minute</th>\n",
       "      <th>Energy</th>\n",
       "      <th>Danceability</th>\n",
       "      <th>Loudness..dB..</th>\n",
       "      <th>Liveness</th>\n",
       "      <th>Valence.</th>\n",
       "      <th>Length.</th>\n",
       "      <th>Acousticness..</th>\n",
       "      <th>Speechiness.</th>\n",
       "      <th>Popularity</th>\n",
       "    </tr>\n",
       "  </thead>\n",
       "  <tbody>\n",
       "    <tr>\n",
       "      <th>0</th>\n",
       "      <td>1</td>\n",
       "      <td>Señorita</td>\n",
       "      <td>Shawn Mendes</td>\n",
       "      <td>canadian pop</td>\n",
       "      <td>117</td>\n",
       "      <td>55</td>\n",
       "      <td>76</td>\n",
       "      <td>-6</td>\n",
       "      <td>8</td>\n",
       "      <td>75</td>\n",
       "      <td>191</td>\n",
       "      <td>4</td>\n",
       "      <td>3</td>\n",
       "      <td>79</td>\n",
       "    </tr>\n",
       "    <tr>\n",
       "      <th>1</th>\n",
       "      <td>2</td>\n",
       "      <td>China</td>\n",
       "      <td>Anuel AA</td>\n",
       "      <td>reggaeton flow</td>\n",
       "      <td>105</td>\n",
       "      <td>81</td>\n",
       "      <td>79</td>\n",
       "      <td>-4</td>\n",
       "      <td>8</td>\n",
       "      <td>61</td>\n",
       "      <td>302</td>\n",
       "      <td>8</td>\n",
       "      <td>9</td>\n",
       "      <td>92</td>\n",
       "    </tr>\n",
       "    <tr>\n",
       "      <th>2</th>\n",
       "      <td>3</td>\n",
       "      <td>boyfriend (with Social House)</td>\n",
       "      <td>Ariana Grande</td>\n",
       "      <td>dance pop</td>\n",
       "      <td>190</td>\n",
       "      <td>80</td>\n",
       "      <td>40</td>\n",
       "      <td>-4</td>\n",
       "      <td>16</td>\n",
       "      <td>70</td>\n",
       "      <td>186</td>\n",
       "      <td>12</td>\n",
       "      <td>46</td>\n",
       "      <td>85</td>\n",
       "    </tr>\n",
       "    <tr>\n",
       "      <th>3</th>\n",
       "      <td>4</td>\n",
       "      <td>Beautiful People (feat. Khalid)</td>\n",
       "      <td>Ed Sheeran</td>\n",
       "      <td>pop</td>\n",
       "      <td>93</td>\n",
       "      <td>65</td>\n",
       "      <td>64</td>\n",
       "      <td>-8</td>\n",
       "      <td>8</td>\n",
       "      <td>55</td>\n",
       "      <td>198</td>\n",
       "      <td>12</td>\n",
       "      <td>19</td>\n",
       "      <td>86</td>\n",
       "    </tr>\n",
       "    <tr>\n",
       "      <th>4</th>\n",
       "      <td>5</td>\n",
       "      <td>Goodbyes (Feat. Young Thug)</td>\n",
       "      <td>Post Malone</td>\n",
       "      <td>dfw rap</td>\n",
       "      <td>150</td>\n",
       "      <td>65</td>\n",
       "      <td>58</td>\n",
       "      <td>-4</td>\n",
       "      <td>11</td>\n",
       "      <td>18</td>\n",
       "      <td>175</td>\n",
       "      <td>45</td>\n",
       "      <td>7</td>\n",
       "      <td>94</td>\n",
       "    </tr>\n",
       "  </tbody>\n",
       "</table>\n",
       "</div>"
      ],
      "text/plain": [
       "   Unnamed: 0                       Track.Name    Artist.Name           Genre  \\\n",
       "0           1                         Señorita   Shawn Mendes    canadian pop   \n",
       "1           2                            China       Anuel AA  reggaeton flow   \n",
       "2           3    boyfriend (with Social House)  Ariana Grande       dance pop   \n",
       "3           4  Beautiful People (feat. Khalid)     Ed Sheeran             pop   \n",
       "4           5      Goodbyes (Feat. Young Thug)    Post Malone         dfw rap   \n",
       "\n",
       "   Beats.Per.Minute  Energy  Danceability  Loudness..dB..  Liveness  Valence.  \\\n",
       "0               117      55            76              -6         8        75   \n",
       "1               105      81            79              -4         8        61   \n",
       "2               190      80            40              -4        16        70   \n",
       "3                93      65            64              -8         8        55   \n",
       "4               150      65            58              -4        11        18   \n",
       "\n",
       "   Length.  Acousticness..  Speechiness.  Popularity  \n",
       "0      191               4             3          79  \n",
       "1      302               8             9          92  \n",
       "2      186              12            46          85  \n",
       "3      198              12            19          86  \n",
       "4      175              45             7          94  "
      ]
     },
     "execution_count": 1,
     "metadata": {},
     "output_type": "execute_result"
    }
   ],
   "source": [
    "import pandas as pd\n",
    "import numpy as np\n",
    "\n",
    "df = pd.read_csv('top50.csv', encoding = \"latin\")\n",
    "df.head()"
   ]
  },
  {
   "cell_type": "code",
   "execution_count": 6,
   "metadata": {},
   "outputs": [
    {
     "data": {
      "text/html": [
       "<div>\n",
       "<style scoped>\n",
       "    .dataframe tbody tr th:only-of-type {\n",
       "        vertical-align: middle;\n",
       "    }\n",
       "\n",
       "    .dataframe tbody tr th {\n",
       "        vertical-align: top;\n",
       "    }\n",
       "\n",
       "    .dataframe thead th {\n",
       "        text-align: right;\n",
       "    }\n",
       "</style>\n",
       "<table border=\"1\" class=\"dataframe\">\n",
       "  <thead>\n",
       "    <tr style=\"text-align: right;\">\n",
       "      <th></th>\n",
       "      <th>Danceability</th>\n",
       "      <th>Popularity</th>\n",
       "      <th>Loudness..dB..</th>\n",
       "    </tr>\n",
       "  </thead>\n",
       "  <tbody>\n",
       "    <tr>\n",
       "      <th>0</th>\n",
       "      <td>76</td>\n",
       "      <td>79</td>\n",
       "      <td>-6</td>\n",
       "    </tr>\n",
       "    <tr>\n",
       "      <th>1</th>\n",
       "      <td>79</td>\n",
       "      <td>92</td>\n",
       "      <td>-4</td>\n",
       "    </tr>\n",
       "    <tr>\n",
       "      <th>2</th>\n",
       "      <td>40</td>\n",
       "      <td>85</td>\n",
       "      <td>-4</td>\n",
       "    </tr>\n",
       "    <tr>\n",
       "      <th>3</th>\n",
       "      <td>64</td>\n",
       "      <td>86</td>\n",
       "      <td>-8</td>\n",
       "    </tr>\n",
       "    <tr>\n",
       "      <th>4</th>\n",
       "      <td>58</td>\n",
       "      <td>94</td>\n",
       "      <td>-4</td>\n",
       "    </tr>\n",
       "    <tr>\n",
       "      <th>5</th>\n",
       "      <td>80</td>\n",
       "      <td>84</td>\n",
       "      <td>-5</td>\n",
       "    </tr>\n",
       "    <tr>\n",
       "      <th>6</th>\n",
       "      <td>75</td>\n",
       "      <td>92</td>\n",
       "      <td>-6</td>\n",
       "    </tr>\n",
       "    <tr>\n",
       "      <th>7</th>\n",
       "      <td>48</td>\n",
       "      <td>90</td>\n",
       "      <td>-5</td>\n",
       "    </tr>\n",
       "    <tr>\n",
       "      <th>8</th>\n",
       "      <td>88</td>\n",
       "      <td>87</td>\n",
       "      <td>-6</td>\n",
       "    </tr>\n",
       "    <tr>\n",
       "      <th>9</th>\n",
       "      <td>70</td>\n",
       "      <td>95</td>\n",
       "      <td>-11</td>\n",
       "    </tr>\n",
       "    <tr>\n",
       "      <th>10</th>\n",
       "      <td>61</td>\n",
       "      <td>93</td>\n",
       "      <td>-5</td>\n",
       "    </tr>\n",
       "    <tr>\n",
       "      <th>11</th>\n",
       "      <td>82</td>\n",
       "      <td>86</td>\n",
       "      <td>-4</td>\n",
       "    </tr>\n",
       "    <tr>\n",
       "      <th>12</th>\n",
       "      <td>50</td>\n",
       "      <td>88</td>\n",
       "      <td>-6</td>\n",
       "    </tr>\n",
       "    <tr>\n",
       "      <th>13</th>\n",
       "      <td>73</td>\n",
       "      <td>87</td>\n",
       "      <td>-2</td>\n",
       "    </tr>\n",
       "    <tr>\n",
       "      <th>14</th>\n",
       "      <td>83</td>\n",
       "      <td>92</td>\n",
       "      <td>-4</td>\n",
       "    </tr>\n",
       "    <tr>\n",
       "      <th>15</th>\n",
       "      <td>70</td>\n",
       "      <td>82</td>\n",
       "      <td>-7</td>\n",
       "    </tr>\n",
       "    <tr>\n",
       "      <th>16</th>\n",
       "      <td>75</td>\n",
       "      <td>90</td>\n",
       "      <td>-6</td>\n",
       "    </tr>\n",
       "    <tr>\n",
       "      <th>17</th>\n",
       "      <td>76</td>\n",
       "      <td>91</td>\n",
       "      <td>-6</td>\n",
       "    </tr>\n",
       "    <tr>\n",
       "      <th>18</th>\n",
       "      <td>84</td>\n",
       "      <td>88</td>\n",
       "      <td>-8</td>\n",
       "    </tr>\n",
       "    <tr>\n",
       "      <th>19</th>\n",
       "      <td>72</td>\n",
       "      <td>91</td>\n",
       "      <td>-3</td>\n",
       "    </tr>\n",
       "    <tr>\n",
       "      <th>20</th>\n",
       "      <td>68</td>\n",
       "      <td>91</td>\n",
       "      <td>-7</td>\n",
       "    </tr>\n",
       "    <tr>\n",
       "      <th>21</th>\n",
       "      <td>70</td>\n",
       "      <td>91</td>\n",
       "      <td>-6</td>\n",
       "    </tr>\n",
       "    <tr>\n",
       "      <th>22</th>\n",
       "      <td>81</td>\n",
       "      <td>83</td>\n",
       "      <td>-4</td>\n",
       "    </tr>\n",
       "    <tr>\n",
       "      <th>23</th>\n",
       "      <td>80</td>\n",
       "      <td>91</td>\n",
       "      <td>-4</td>\n",
       "    </tr>\n",
       "    <tr>\n",
       "      <th>24</th>\n",
       "      <td>67</td>\n",
       "      <td>89</td>\n",
       "      <td>-11</td>\n",
       "    </tr>\n",
       "    <tr>\n",
       "      <th>25</th>\n",
       "      <td>69</td>\n",
       "      <td>70</td>\n",
       "      <td>-4</td>\n",
       "    </tr>\n",
       "    <tr>\n",
       "      <th>26</th>\n",
       "      <td>82</td>\n",
       "      <td>83</td>\n",
       "      <td>-6</td>\n",
       "    </tr>\n",
       "    <tr>\n",
       "      <th>27</th>\n",
       "      <td>73</td>\n",
       "      <td>89</td>\n",
       "      <td>-7</td>\n",
       "    </tr>\n",
       "    <tr>\n",
       "      <th>28</th>\n",
       "      <td>74</td>\n",
       "      <td>91</td>\n",
       "      <td>-3</td>\n",
       "    </tr>\n",
       "    <tr>\n",
       "      <th>29</th>\n",
       "      <td>64</td>\n",
       "      <td>89</td>\n",
       "      <td>-4</td>\n",
       "    </tr>\n",
       "    <tr>\n",
       "      <th>30</th>\n",
       "      <td>29</td>\n",
       "      <td>84</td>\n",
       "      <td>-8</td>\n",
       "    </tr>\n",
       "    <tr>\n",
       "      <th>31</th>\n",
       "      <td>78</td>\n",
       "      <td>89</td>\n",
       "      <td>-11</td>\n",
       "    </tr>\n",
       "    <tr>\n",
       "      <th>32</th>\n",
       "      <td>78</td>\n",
       "      <td>89</td>\n",
       "      <td>-5</td>\n",
       "    </tr>\n",
       "    <tr>\n",
       "      <th>33</th>\n",
       "      <td>80</td>\n",
       "      <td>89</td>\n",
       "      <td>-7</td>\n",
       "    </tr>\n",
       "    <tr>\n",
       "      <th>34</th>\n",
       "      <td>77</td>\n",
       "      <td>89</td>\n",
       "      <td>-5</td>\n",
       "    </tr>\n",
       "    <tr>\n",
       "      <th>35</th>\n",
       "      <td>66</td>\n",
       "      <td>89</td>\n",
       "      <td>-7</td>\n",
       "    </tr>\n",
       "    <tr>\n",
       "      <th>36</th>\n",
       "      <td>75</td>\n",
       "      <td>91</td>\n",
       "      <td>-5</td>\n",
       "    </tr>\n",
       "    <tr>\n",
       "      <th>37</th>\n",
       "      <td>72</td>\n",
       "      <td>87</td>\n",
       "      <td>-5</td>\n",
       "    </tr>\n",
       "    <tr>\n",
       "      <th>38</th>\n",
       "      <td>84</td>\n",
       "      <td>80</td>\n",
       "      <td>-5</td>\n",
       "    </tr>\n",
       "    <tr>\n",
       "      <th>39</th>\n",
       "      <td>81</td>\n",
       "      <td>78</td>\n",
       "      <td>-6</td>\n",
       "    </tr>\n",
       "    <tr>\n",
       "      <th>40</th>\n",
       "      <td>69</td>\n",
       "      <td>88</td>\n",
       "      <td>-7</td>\n",
       "    </tr>\n",
       "    <tr>\n",
       "      <th>41</th>\n",
       "      <td>77</td>\n",
       "      <td>90</td>\n",
       "      <td>-6</td>\n",
       "    </tr>\n",
       "    <tr>\n",
       "      <th>42</th>\n",
       "      <td>57</td>\n",
       "      <td>87</td>\n",
       "      <td>-6</td>\n",
       "    </tr>\n",
       "    <tr>\n",
       "      <th>43</th>\n",
       "      <td>90</td>\n",
       "      <td>84</td>\n",
       "      <td>-9</td>\n",
       "    </tr>\n",
       "    <tr>\n",
       "      <th>44</th>\n",
       "      <td>88</td>\n",
       "      <td>88</td>\n",
       "      <td>-4</td>\n",
       "    </tr>\n",
       "    <tr>\n",
       "      <th>45</th>\n",
       "      <td>66</td>\n",
       "      <td>88</td>\n",
       "      <td>-2</td>\n",
       "    </tr>\n",
       "    <tr>\n",
       "      <th>46</th>\n",
       "      <td>67</td>\n",
       "      <td>88</td>\n",
       "      <td>-4</td>\n",
       "    </tr>\n",
       "    <tr>\n",
       "      <th>47</th>\n",
       "      <td>69</td>\n",
       "      <td>88</td>\n",
       "      <td>-3</td>\n",
       "    </tr>\n",
       "    <tr>\n",
       "      <th>48</th>\n",
       "      <td>59</td>\n",
       "      <td>88</td>\n",
       "      <td>-6</td>\n",
       "    </tr>\n",
       "    <tr>\n",
       "      <th>49</th>\n",
       "      <td>75</td>\n",
       "      <td>82</td>\n",
       "      <td>-6</td>\n",
       "    </tr>\n",
       "  </tbody>\n",
       "</table>\n",
       "</div>"
      ],
      "text/plain": [
       "    Danceability  Popularity  Loudness..dB..\n",
       "0             76          79              -6\n",
       "1             79          92              -4\n",
       "2             40          85              -4\n",
       "3             64          86              -8\n",
       "4             58          94              -4\n",
       "5             80          84              -5\n",
       "6             75          92              -6\n",
       "7             48          90              -5\n",
       "8             88          87              -6\n",
       "9             70          95             -11\n",
       "10            61          93              -5\n",
       "11            82          86              -4\n",
       "12            50          88              -6\n",
       "13            73          87              -2\n",
       "14            83          92              -4\n",
       "15            70          82              -7\n",
       "16            75          90              -6\n",
       "17            76          91              -6\n",
       "18            84          88              -8\n",
       "19            72          91              -3\n",
       "20            68          91              -7\n",
       "21            70          91              -6\n",
       "22            81          83              -4\n",
       "23            80          91              -4\n",
       "24            67          89             -11\n",
       "25            69          70              -4\n",
       "26            82          83              -6\n",
       "27            73          89              -7\n",
       "28            74          91              -3\n",
       "29            64          89              -4\n",
       "30            29          84              -8\n",
       "31            78          89             -11\n",
       "32            78          89              -5\n",
       "33            80          89              -7\n",
       "34            77          89              -5\n",
       "35            66          89              -7\n",
       "36            75          91              -5\n",
       "37            72          87              -5\n",
       "38            84          80              -5\n",
       "39            81          78              -6\n",
       "40            69          88              -7\n",
       "41            77          90              -6\n",
       "42            57          87              -6\n",
       "43            90          84              -9\n",
       "44            88          88              -4\n",
       "45            66          88              -2\n",
       "46            67          88              -4\n",
       "47            69          88              -3\n",
       "48            59          88              -6\n",
       "49            75          82              -6"
      ]
     },
     "execution_count": 6,
     "metadata": {},
     "output_type": "execute_result"
    }
   ],
   "source": [
    "df.iloc[:,[6,13,7]]"
   ]
  },
  {
   "cell_type": "markdown",
   "metadata": {},
   "source": [
    "One column that is still particularly enigmatic to me is `Danceability`. I can guess that songs with high `Danceability` probably have a fast, regular beat, but I have no idea of what's a \"good\" or \"bad\" `Danceability` score. In other words, we'd like to know the min/max _range_ of the `Danceability` column to better understand the values.\n",
    "\n",
    "You can guess that this is a common scenario during data exploration, and thus pandas makes this very easy:"
   ]
  },
  {
   "cell_type": "code",
   "execution_count": 2,
   "metadata": {},
   "outputs": [
    {
     "data": {
      "text/plain": [
       "29"
      ]
     },
     "execution_count": 2,
     "metadata": {},
     "output_type": "execute_result"
    }
   ],
   "source": [
    "df['Danceability'].min()"
   ]
  },
  {
   "cell_type": "code",
   "execution_count": 3,
   "metadata": {},
   "outputs": [
    {
     "data": {
      "text/plain": [
       "90"
      ]
     },
     "execution_count": 3,
     "metadata": {},
     "output_type": "execute_result"
    }
   ],
   "source": [
    "df['Danceability'].max()"
   ]
  },
  {
   "cell_type": "markdown",
   "metadata": {},
   "source": [
    "Here, we selected the `Danceability` column using the `[]`, which if you remember from last lecture returns a `Series` object, and we then called the `Series` methods [`.min()`](https://pandas.pydata.org/pandas-docs/stable/reference/api/pandas.Series.min.html) and [`.max()`](https://pandas.pydata.org/pandas-docs/stable/reference/api/pandas.Series.max.html).\n",
    "\n",
    "We also could have got _all_ of the columns' minimum values by calling [`.min()`](https://pandas.pydata.org/pandas-docs/stable/reference/api/pandas.DataFrame.min.html) directly on the `DataFrame`:"
   ]
  },
  {
   "cell_type": "code",
   "execution_count": 4,
   "metadata": {},
   "outputs": [
    {
     "data": {
      "text/plain": [
       "Unnamed: 0                          1\n",
       "Track.Name          0.958333333333333\n",
       "Artist.Name                 Ali Gatie\n",
       "Genre                     atl hip hop\n",
       "Beats.Per.Minute                   85\n",
       "Energy                             32\n",
       "Danceability                       29\n",
       "Loudness..dB..                    -11\n",
       "Liveness                            5\n",
       "Valence.                           10\n",
       "Length.                           115\n",
       "Acousticness..                      1\n",
       "Speechiness.                        3\n",
       "Popularity                         70\n",
       "dtype: object"
      ]
     },
     "execution_count": 4,
     "metadata": {},
     "output_type": "execute_result"
    }
   ],
   "source": [
    "df.min()"
   ]
  },
  {
   "cell_type": "markdown",
   "metadata": {},
   "source": [
    "Now that we know that `Danceability` $\\in [29, 90]$, we're curious to know what's the most danceable song of 2019! One way to achieve this would be to use the [`.sort_values()`](https://pandas.pydata.org/pandas-docs/stable/reference/api/pandas.DataFrame.sort_values.html) method we've used before, and then pick the first row using `df.iloc[0]`. However, sorting is slow, and we'd be messing with the order of the rows. We could also use a _boolean mask_ checking rows with elements equal to that max value. Whilst that would work, there is an easier way.\n",
    "\n",
    "To find the _index_ of min or max values, we can use the [`.idxmin()`](https://pandas.pydata.org/pandas-docs/stable/reference/api/pandas.Series.idxmin.html) and [`.idxmax()`](https://pandas.pydata.org/pandas-docs/stable/reference/api/pandas.Series.idxmax.html) methods."
   ]
  },
  {
   "cell_type": "code",
   "execution_count": 16,
   "metadata": {},
   "outputs": [
    {
     "data": {
      "text/plain": [
       "43"
      ]
     },
     "execution_count": 16,
     "metadata": {},
     "output_type": "execute_result"
    }
   ],
   "source": [
    "df['Danceability'].idxmax()\n",
    "\n"
   ]
  },
  {
   "cell_type": "markdown",
   "metadata": {},
   "source": [
    "This returns the _label_ of the row where the max value occurs. Therefore, we can easily fetch the most danceable song of 2019 by combining the above with `.loc[]`:"
   ]
  },
  {
   "cell_type": "code",
   "execution_count": 22,
   "metadata": {},
   "outputs": [
    {
     "data": {
      "text/plain": [
       "Unnamed: 0              44\n",
       "Track.Name            Talk\n",
       "Artist.Name         Khalid\n",
       "Genre                  pop\n",
       "Beats.Per.Minute       136\n",
       "Energy                  40\n",
       "Danceability            90\n",
       "Loudness..dB..          -9\n",
       "Liveness                 6\n",
       "Valence.                35\n",
       "Length.                198\n",
       "Acousticness..           5\n",
       "Speechiness.            13\n",
       "Popularity              84\n",
       "Name: 43, dtype: object"
      ]
     },
     "execution_count": 22,
     "metadata": {},
     "output_type": "execute_result"
    }
   ],
   "source": [
    "df.loc[df['Danceability'].idxmax()]\n"
   ]
  },
  {
   "cell_type": "markdown",
   "metadata": {},
   "source": [
    "Very danceable indeed! 💃\n",
    "\n",
    "We've now got an idea of what's a good `Danceability` score, and an example of a danceable song. But most songs aren't as groovy as Khalid's tune! How do we know what's a _normal_ amount of `Danceability`? To do this, we can calculate the column _average_. As expected, pandas makes this trivial:"
   ]
  },
  {
   "cell_type": "code",
   "execution_count": 8,
   "metadata": {},
   "outputs": [
    {
     "data": {
      "text/plain": [
       "71.38"
      ]
     },
     "execution_count": 8,
     "metadata": {},
     "output_type": "execute_result"
    }
   ],
   "source": [
    "df['Danceability'].mean()"
   ]
  },
  {
   "cell_type": "markdown",
   "metadata": {},
   "source": [
    "Wow, it seems popular songs are quite danceable on average! As we know from the minimum value = 29, there must still be some variation. Calculating the _standard deviation_ of the column is useful to gauge this variation:"
   ]
  },
  {
   "cell_type": "code",
   "execution_count": 9,
   "metadata": {},
   "outputs": [
    {
     "data": {
      "text/plain": [
       "11.929880167727022"
      ]
     },
     "execution_count": 9,
     "metadata": {},
     "output_type": "execute_result"
    }
   ],
   "source": [
    "df['Danceability'].std()"
   ]
  },
  {
   "cell_type": "markdown",
   "metadata": {},
   "source": [
    "Calculating ranges, means, and standard deviations in this exploratory manner are ways of trying to characterise the _distribution_ of the column. A more visual way of doing so, is by directly plotting a histogram. Just like with the line plot, pandas makes this possible in one line:"
   ]
  },
  {
   "cell_type": "code",
   "execution_count": 10,
   "metadata": {},
   "outputs": [
    {
     "data": {
      "text/plain": [
       "<matplotlib.axes._subplots.AxesSubplot at 0x7f68a2109cd0>"
      ]
     },
     "execution_count": 10,
     "metadata": {},
     "output_type": "execute_result"
    },
    {
     "data": {
      "image/png": "[encoded data removed]",
      "text/plain": [
       "<Figure size 432x288 with 1 Axes>"
      ]
     },
     "metadata": {
      "needs_background": "light"
     },
     "output_type": "display_data"
    }
   ],
   "source": [
    "df['Danceability'].plot.hist()"
   ]
  },
  {
   "cell_type": "markdown",
   "metadata": {},
   "source": [
    "We now have a full statistical description of the `Danceability` column, and \"understand\" the variable better. We can notice that most popular songs in 2019 were very danceable, with a small group of not so danceable songs. (Can you figure out which ones?)\n",
    "\n",
    "Now, please don't be mad, but I've been keeping a trick from you this whole time. It's possible to get a statistical summary of every column in a `DataFrame` by using the [`.describe()`](https://pandas.pydata.org/pandas-docs/stable/reference/api/pandas.DataFrame.describe.html) method:"
   ]
  },
  {
   "cell_type": "code",
   "execution_count": 11,
   "metadata": {},
   "outputs": [
    {
     "data": {
      "text/html": [
       "<div>\n",
       "<style scoped>\n",
       "    .dataframe tbody tr th:only-of-type {\n",
       "        vertical-align: middle;\n",
       "    }\n",
       "\n",
       "    .dataframe tbody tr th {\n",
       "        vertical-align: top;\n",
       "    }\n",
       "\n",
       "    .dataframe thead th {\n",
       "        text-align: right;\n",
       "    }\n",
       "</style>\n",
       "<table border=\"1\" class=\"dataframe\">\n",
       "  <thead>\n",
       "    <tr style=\"text-align: right;\">\n",
       "      <th></th>\n",
       "      <th>Unnamed: 0</th>\n",
       "      <th>Beats.Per.Minute</th>\n",
       "      <th>Energy</th>\n",
       "      <th>Danceability</th>\n",
       "      <th>Loudness..dB..</th>\n",
       "      <th>Liveness</th>\n",
       "      <th>Valence.</th>\n",
       "      <th>Length.</th>\n",
       "      <th>Acousticness..</th>\n",
       "      <th>Speechiness.</th>\n",
       "      <th>Popularity</th>\n",
       "    </tr>\n",
       "  </thead>\n",
       "  <tbody>\n",
       "    <tr>\n",
       "      <th>count</th>\n",
       "      <td>50.00000</td>\n",
       "      <td>50.000000</td>\n",
       "      <td>50.000000</td>\n",
       "      <td>50.00000</td>\n",
       "      <td>50.000000</td>\n",
       "      <td>50.000000</td>\n",
       "      <td>50.000000</td>\n",
       "      <td>50.000000</td>\n",
       "      <td>50.000000</td>\n",
       "      <td>50.000000</td>\n",
       "      <td>50.000000</td>\n",
       "    </tr>\n",
       "    <tr>\n",
       "      <th>mean</th>\n",
       "      <td>25.50000</td>\n",
       "      <td>120.060000</td>\n",
       "      <td>64.060000</td>\n",
       "      <td>71.38000</td>\n",
       "      <td>-5.660000</td>\n",
       "      <td>14.660000</td>\n",
       "      <td>54.600000</td>\n",
       "      <td>200.960000</td>\n",
       "      <td>22.160000</td>\n",
       "      <td>12.480000</td>\n",
       "      <td>87.500000</td>\n",
       "    </tr>\n",
       "    <tr>\n",
       "      <th>std</th>\n",
       "      <td>14.57738</td>\n",
       "      <td>30.898392</td>\n",
       "      <td>14.231913</td>\n",
       "      <td>11.92988</td>\n",
       "      <td>2.056448</td>\n",
       "      <td>11.118306</td>\n",
       "      <td>22.336024</td>\n",
       "      <td>39.143879</td>\n",
       "      <td>18.995553</td>\n",
       "      <td>11.161596</td>\n",
       "      <td>4.491489</td>\n",
       "    </tr>\n",
       "    <tr>\n",
       "      <th>min</th>\n",
       "      <td>1.00000</td>\n",
       "      <td>85.000000</td>\n",
       "      <td>32.000000</td>\n",
       "      <td>29.00000</td>\n",
       "      <td>-11.000000</td>\n",
       "      <td>5.000000</td>\n",
       "      <td>10.000000</td>\n",
       "      <td>115.000000</td>\n",
       "      <td>1.000000</td>\n",
       "      <td>3.000000</td>\n",
       "      <td>70.000000</td>\n",
       "    </tr>\n",
       "    <tr>\n",
       "      <th>25%</th>\n",
       "      <td>13.25000</td>\n",
       "      <td>96.000000</td>\n",
       "      <td>55.250000</td>\n",
       "      <td>67.00000</td>\n",
       "      <td>-6.750000</td>\n",
       "      <td>8.000000</td>\n",
       "      <td>38.250000</td>\n",
       "      <td>176.750000</td>\n",
       "      <td>8.250000</td>\n",
       "      <td>5.000000</td>\n",
       "      <td>86.000000</td>\n",
       "    </tr>\n",
       "    <tr>\n",
       "      <th>50%</th>\n",
       "      <td>25.50000</td>\n",
       "      <td>104.500000</td>\n",
       "      <td>66.500000</td>\n",
       "      <td>73.50000</td>\n",
       "      <td>-6.000000</td>\n",
       "      <td>11.000000</td>\n",
       "      <td>55.500000</td>\n",
       "      <td>198.000000</td>\n",
       "      <td>15.000000</td>\n",
       "      <td>7.000000</td>\n",
       "      <td>88.000000</td>\n",
       "    </tr>\n",
       "    <tr>\n",
       "      <th>75%</th>\n",
       "      <td>37.75000</td>\n",
       "      <td>137.500000</td>\n",
       "      <td>74.750000</td>\n",
       "      <td>79.75000</td>\n",
       "      <td>-4.000000</td>\n",
       "      <td>15.750000</td>\n",
       "      <td>69.500000</td>\n",
       "      <td>217.500000</td>\n",
       "      <td>33.750000</td>\n",
       "      <td>15.000000</td>\n",
       "      <td>90.750000</td>\n",
       "    </tr>\n",
       "    <tr>\n",
       "      <th>max</th>\n",
       "      <td>50.00000</td>\n",
       "      <td>190.000000</td>\n",
       "      <td>88.000000</td>\n",
       "      <td>90.00000</td>\n",
       "      <td>-2.000000</td>\n",
       "      <td>58.000000</td>\n",
       "      <td>95.000000</td>\n",
       "      <td>309.000000</td>\n",
       "      <td>75.000000</td>\n",
       "      <td>46.000000</td>\n",
       "      <td>95.000000</td>\n",
       "    </tr>\n",
       "  </tbody>\n",
       "</table>\n",
       "</div>"
      ],
      "text/plain": [
       "       Unnamed: 0  Beats.Per.Minute     Energy  Danceability  Loudness..dB..  \\\n",
       "count    50.00000         50.000000  50.000000      50.00000       50.000000   \n",
       "mean     25.50000        120.060000  64.060000      71.38000       -5.660000   \n",
       "std      14.57738         30.898392  14.231913      11.92988        2.056448   \n",
       "min       1.00000         85.000000  32.000000      29.00000      -11.000000   \n",
       "25%      13.25000         96.000000  55.250000      67.00000       -6.750000   \n",
       "50%      25.50000        104.500000  66.500000      73.50000       -6.000000   \n",
       "75%      37.75000        137.500000  74.750000      79.75000       -4.000000   \n",
       "max      50.00000        190.000000  88.000000      90.00000       -2.000000   \n",
       "\n",
       "        Liveness   Valence.     Length.  Acousticness..  Speechiness.  \\\n",
       "count  50.000000  50.000000   50.000000       50.000000     50.000000   \n",
       "mean   14.660000  54.600000  200.960000       22.160000     12.480000   \n",
       "std    11.118306  22.336024   39.143879       18.995553     11.161596   \n",
       "min     5.000000  10.000000  115.000000        1.000000      3.000000   \n",
       "25%     8.000000  38.250000  176.750000        8.250000      5.000000   \n",
       "50%    11.000000  55.500000  198.000000       15.000000      7.000000   \n",
       "75%    15.750000  69.500000  217.500000       33.750000     15.000000   \n",
       "max    58.000000  95.000000  309.000000       75.000000     46.000000   \n",
       "\n",
       "       Popularity  \n",
       "count   50.000000  \n",
       "mean    87.500000  \n",
       "std      4.491489  \n",
       "min     70.000000  \n",
       "25%     86.000000  \n",
       "50%     88.000000  \n",
       "75%     90.750000  \n",
       "max     95.000000  "
      ]
     },
     "execution_count": 11,
     "metadata": {},
     "output_type": "execute_result"
    }
   ],
   "source": [
    "df.describe()\n",
    "# The percentiles represent the distribution of the data (medians)"
   ]
  },
  {
   "cell_type": "markdown",
   "metadata": {},
   "source": [
    "So now we know how to run `.min()`, `.max()`, `.mean()`, and `.std()` methods on `DataFrame` columns, but we also know that there is no need to do so if we've already inspected the `.describe()` output! This is often the first exploration step for a new dataset.\n",
    "\n",
    "🧠 Can you explain what the $25\\%$, $50\\%$, and $75\\%$ rows represent in the statistical summary?\n",
    "\n",
    "Despite having this great statistical summary, one aspect of the dataset remains unclear. You might have noticed that columns with non-numerical `dtypes` were not included in the `.describe()` summary (e.g `Track.Name`). \n",
    "\n",
    "We can include them by using this argument:"
   ]
  },
  {
   "cell_type": "code",
   "execution_count": 12,
   "metadata": {},
   "outputs": [
    {
     "data": {
      "text/html": [
       "<div>\n",
       "<style scoped>\n",
       "    .dataframe tbody tr th:only-of-type {\n",
       "        vertical-align: middle;\n",
       "    }\n",
       "\n",
       "    .dataframe tbody tr th {\n",
       "        vertical-align: top;\n",
       "    }\n",
       "\n",
       "    .dataframe thead th {\n",
       "        text-align: right;\n",
       "    }\n",
       "</style>\n",
       "<table border=\"1\" class=\"dataframe\">\n",
       "  <thead>\n",
       "    <tr style=\"text-align: right;\">\n",
       "      <th></th>\n",
       "      <th>Unnamed: 0</th>\n",
       "      <th>Track.Name</th>\n",
       "      <th>Artist.Name</th>\n",
       "      <th>Genre</th>\n",
       "      <th>Beats.Per.Minute</th>\n",
       "      <th>Energy</th>\n",
       "      <th>Danceability</th>\n",
       "      <th>Loudness..dB..</th>\n",
       "      <th>Liveness</th>\n",
       "      <th>Valence.</th>\n",
       "      <th>Length.</th>\n",
       "      <th>Acousticness..</th>\n",
       "      <th>Speechiness.</th>\n",
       "      <th>Popularity</th>\n",
       "    </tr>\n",
       "  </thead>\n",
       "  <tbody>\n",
       "    <tr>\n",
       "      <th>count</th>\n",
       "      <td>50.00000</td>\n",
       "      <td>50</td>\n",
       "      <td>50</td>\n",
       "      <td>50</td>\n",
       "      <td>50.000000</td>\n",
       "      <td>50.000000</td>\n",
       "      <td>50.00000</td>\n",
       "      <td>50.000000</td>\n",
       "      <td>50.000000</td>\n",
       "      <td>50.000000</td>\n",
       "      <td>50.000000</td>\n",
       "      <td>50.000000</td>\n",
       "      <td>50.000000</td>\n",
       "      <td>50.000000</td>\n",
       "    </tr>\n",
       "    <tr>\n",
       "      <th>unique</th>\n",
       "      <td>NaN</td>\n",
       "      <td>50</td>\n",
       "      <td>38</td>\n",
       "      <td>21</td>\n",
       "      <td>NaN</td>\n",
       "      <td>NaN</td>\n",
       "      <td>NaN</td>\n",
       "      <td>NaN</td>\n",
       "      <td>NaN</td>\n",
       "      <td>NaN</td>\n",
       "      <td>NaN</td>\n",
       "      <td>NaN</td>\n",
       "      <td>NaN</td>\n",
       "      <td>NaN</td>\n",
       "    </tr>\n",
       "    <tr>\n",
       "      <th>top</th>\n",
       "      <td>NaN</td>\n",
       "      <td>7 rings</td>\n",
       "      <td>Ed Sheeran</td>\n",
       "      <td>dance pop</td>\n",
       "      <td>NaN</td>\n",
       "      <td>NaN</td>\n",
       "      <td>NaN</td>\n",
       "      <td>NaN</td>\n",
       "      <td>NaN</td>\n",
       "      <td>NaN</td>\n",
       "      <td>NaN</td>\n",
       "      <td>NaN</td>\n",
       "      <td>NaN</td>\n",
       "      <td>NaN</td>\n",
       "    </tr>\n",
       "    <tr>\n",
       "      <th>freq</th>\n",
       "      <td>NaN</td>\n",
       "      <td>1</td>\n",
       "      <td>4</td>\n",
       "      <td>8</td>\n",
       "      <td>NaN</td>\n",
       "      <td>NaN</td>\n",
       "      <td>NaN</td>\n",
       "      <td>NaN</td>\n",
       "      <td>NaN</td>\n",
       "      <td>NaN</td>\n",
       "      <td>NaN</td>\n",
       "      <td>NaN</td>\n",
       "      <td>NaN</td>\n",
       "      <td>NaN</td>\n",
       "    </tr>\n",
       "    <tr>\n",
       "      <th>mean</th>\n",
       "      <td>25.50000</td>\n",
       "      <td>NaN</td>\n",
       "      <td>NaN</td>\n",
       "      <td>NaN</td>\n",
       "      <td>120.060000</td>\n",
       "      <td>64.060000</td>\n",
       "      <td>71.38000</td>\n",
       "      <td>-5.660000</td>\n",
       "      <td>14.660000</td>\n",
       "      <td>54.600000</td>\n",
       "      <td>200.960000</td>\n",
       "      <td>22.160000</td>\n",
       "      <td>12.480000</td>\n",
       "      <td>87.500000</td>\n",
       "    </tr>\n",
       "    <tr>\n",
       "      <th>std</th>\n",
       "      <td>14.57738</td>\n",
       "      <td>NaN</td>\n",
       "      <td>NaN</td>\n",
       "      <td>NaN</td>\n",
       "      <td>30.898392</td>\n",
       "      <td>14.231913</td>\n",
       "      <td>11.92988</td>\n",
       "      <td>2.056448</td>\n",
       "      <td>11.118306</td>\n",
       "      <td>22.336024</td>\n",
       "      <td>39.143879</td>\n",
       "      <td>18.995553</td>\n",
       "      <td>11.161596</td>\n",
       "      <td>4.491489</td>\n",
       "    </tr>\n",
       "    <tr>\n",
       "      <th>min</th>\n",
       "      <td>1.00000</td>\n",
       "      <td>NaN</td>\n",
       "      <td>NaN</td>\n",
       "      <td>NaN</td>\n",
       "      <td>85.000000</td>\n",
       "      <td>32.000000</td>\n",
       "      <td>29.00000</td>\n",
       "      <td>-11.000000</td>\n",
       "      <td>5.000000</td>\n",
       "      <td>10.000000</td>\n",
       "      <td>115.000000</td>\n",
       "      <td>1.000000</td>\n",
       "      <td>3.000000</td>\n",
       "      <td>70.000000</td>\n",
       "    </tr>\n",
       "    <tr>\n",
       "      <th>25%</th>\n",
       "      <td>13.25000</td>\n",
       "      <td>NaN</td>\n",
       "      <td>NaN</td>\n",
       "      <td>NaN</td>\n",
       "      <td>96.000000</td>\n",
       "      <td>55.250000</td>\n",
       "      <td>67.00000</td>\n",
       "      <td>-6.750000</td>\n",
       "      <td>8.000000</td>\n",
       "      <td>38.250000</td>\n",
       "      <td>176.750000</td>\n",
       "      <td>8.250000</td>\n",
       "      <td>5.000000</td>\n",
       "      <td>86.000000</td>\n",
       "    </tr>\n",
       "    <tr>\n",
       "      <th>50%</th>\n",
       "      <td>25.50000</td>\n",
       "      <td>NaN</td>\n",
       "      <td>NaN</td>\n",
       "      <td>NaN</td>\n",
       "      <td>104.500000</td>\n",
       "      <td>66.500000</td>\n",
       "      <td>73.50000</td>\n",
       "      <td>-6.000000</td>\n",
       "      <td>11.000000</td>\n",
       "      <td>55.500000</td>\n",
       "      <td>198.000000</td>\n",
       "      <td>15.000000</td>\n",
       "      <td>7.000000</td>\n",
       "      <td>88.000000</td>\n",
       "    </tr>\n",
       "    <tr>\n",
       "      <th>75%</th>\n",
       "      <td>37.75000</td>\n",
       "      <td>NaN</td>\n",
       "      <td>NaN</td>\n",
       "      <td>NaN</td>\n",
       "      <td>137.500000</td>\n",
       "      <td>74.750000</td>\n",
       "      <td>79.75000</td>\n",
       "      <td>-4.000000</td>\n",
       "      <td>15.750000</td>\n",
       "      <td>69.500000</td>\n",
       "      <td>217.500000</td>\n",
       "      <td>33.750000</td>\n",
       "      <td>15.000000</td>\n",
       "      <td>90.750000</td>\n",
       "    </tr>\n",
       "    <tr>\n",
       "      <th>max</th>\n",
       "      <td>50.00000</td>\n",
       "      <td>NaN</td>\n",
       "      <td>NaN</td>\n",
       "      <td>NaN</td>\n",
       "      <td>190.000000</td>\n",
       "      <td>88.000000</td>\n",
       "      <td>90.00000</td>\n",
       "      <td>-2.000000</td>\n",
       "      <td>58.000000</td>\n",
       "      <td>95.000000</td>\n",
       "      <td>309.000000</td>\n",
       "      <td>75.000000</td>\n",
       "      <td>46.000000</td>\n",
       "      <td>95.000000</td>\n",
       "    </tr>\n",
       "  </tbody>\n",
       "</table>\n",
       "</div>"
      ],
      "text/plain": [
       "        Unnamed: 0 Track.Name Artist.Name      Genre  Beats.Per.Minute  \\\n",
       "count     50.00000         50          50         50         50.000000   \n",
       "unique         NaN         50          38         21               NaN   \n",
       "top            NaN    7 rings  Ed Sheeran  dance pop               NaN   \n",
       "freq           NaN          1           4          8               NaN   \n",
       "mean      25.50000        NaN         NaN        NaN        120.060000   \n",
       "std       14.57738        NaN         NaN        NaN         30.898392   \n",
       "min        1.00000        NaN         NaN        NaN         85.000000   \n",
       "25%       13.25000        NaN         NaN        NaN         96.000000   \n",
       "50%       25.50000        NaN         NaN        NaN        104.500000   \n",
       "75%       37.75000        NaN         NaN        NaN        137.500000   \n",
       "max       50.00000        NaN         NaN        NaN        190.000000   \n",
       "\n",
       "           Energy  Danceability  Loudness..dB..   Liveness   Valence.  \\\n",
       "count   50.000000      50.00000       50.000000  50.000000  50.000000   \n",
       "unique        NaN           NaN             NaN        NaN        NaN   \n",
       "top           NaN           NaN             NaN        NaN        NaN   \n",
       "freq          NaN           NaN             NaN        NaN        NaN   \n",
       "mean    64.060000      71.38000       -5.660000  14.660000  54.600000   \n",
       "std     14.231913      11.92988        2.056448  11.118306  22.336024   \n",
       "min     32.000000      29.00000      -11.000000   5.000000  10.000000   \n",
       "25%     55.250000      67.00000       -6.750000   8.000000  38.250000   \n",
       "50%     66.500000      73.50000       -6.000000  11.000000  55.500000   \n",
       "75%     74.750000      79.75000       -4.000000  15.750000  69.500000   \n",
       "max     88.000000      90.00000       -2.000000  58.000000  95.000000   \n",
       "\n",
       "           Length.  Acousticness..  Speechiness.  Popularity  \n",
       "count    50.000000       50.000000     50.000000   50.000000  \n",
       "unique         NaN             NaN           NaN         NaN  \n",
       "top            NaN             NaN           NaN         NaN  \n",
       "freq           NaN             NaN           NaN         NaN  \n",
       "mean    200.960000       22.160000     12.480000   87.500000  \n",
       "std      39.143879       18.995553     11.161596    4.491489  \n",
       "min     115.000000        1.000000      3.000000   70.000000  \n",
       "25%     176.750000        8.250000      5.000000   86.000000  \n",
       "50%     198.000000       15.000000      7.000000   88.000000  \n",
       "75%     217.500000       33.750000     15.000000   90.750000  \n",
       "max     309.000000       75.000000     46.000000   95.000000  "
      ]
     },
     "execution_count": 12,
     "metadata": {},
     "output_type": "execute_result"
    }
   ],
   "source": [
    "df.describe(include='all')"
   ]
  },
  {
   "cell_type": "markdown",
   "metadata": {},
   "source": [
    "This is slightly messier, since we can't calculate the mean of `string`s or the frequency of `float`s. We can now see information about the string columns however. Dance pop is sooooo 2019... 💁‍♂️\n",
    "\n",
    "Not all the summary statistics you might want are in the `.describe()` table. For example, the `top` value for the `Track.Name` column is fairly useless... Its `freq` is 1 meaning that they are all unique track names. That makes sense, it would be quite a coincidence if two tracks in the top 50 songs of 2019 shared a name! Nevertheless, this means that we still don't have many insights into the \"typical\" track name in 2019. \n",
    "\n",
    "Even if it's slightly more complex, we can find the 10 most common words used in the track titles:"
   ]
  },
  {
   "cell_type": "code",
   "execution_count": 73,
   "metadata": {},
   "outputs": [],
   "source": [
    "pd.Series(''.join(df['Track.Name']).lower().split()).value_counts()[:10]\n",
    "\n",
    "#value_counts() returns frequency of unique objects in the given index"
   ]
  },
  {
   "cell_type": "code",
   "execution_count": 147,
   "metadata": {},
   "outputs": [
    {
     "ename": "TypeError",
     "evalue": "'list' object is not callable",
     "output_type": "error",
     "traceback": [
      "\u001b[0;31m---------------------------------------------------------------------------\u001b[0m",
      "\u001b[0;31mTypeError\u001b[0m                                 Traceback (most recent call last)",
      "\u001b[0;32m<ipython-input-147-0080dd18128d>\u001b[0m in \u001b[0;36m<module>\u001b[0;34m\u001b[0m\n\u001b[0;32m----> 1\u001b[0;31m \u001b[0mpd\u001b[0m\u001b[0;34m.\u001b[0m\u001b[0mSeries\u001b[0m\u001b[0;34m(\u001b[0m\u001b[0;34m''\u001b[0m\u001b[0;34m.\u001b[0m\u001b[0mjoin\u001b[0m\u001b[0;34m(\u001b[0m\u001b[0mdf\u001b[0m\u001b[0;34m[\u001b[0m\u001b[0;34m'Artist.Name'\u001b[0m\u001b[0;34m]\u001b[0m\u001b[0;34m)\u001b[0m\u001b[0;34m.\u001b[0m\u001b[0msplit\u001b[0m\u001b[0;34m(\u001b[0m\u001b[0;34m)\u001b[0m\u001b[0;34m)\u001b[0m\u001b[0;34m.\u001b[0m\u001b[0mvalue_counts\u001b[0m\u001b[0;34m(\u001b[0m\u001b[0;34m)\u001b[0m\u001b[0;34m[\u001b[0m\u001b[0;34m:\u001b[0m\u001b[0;36m5\u001b[0m\u001b[0;34m]\u001b[0m\u001b[0;34m\u001b[0m\u001b[0;34m\u001b[0m\u001b[0m\n\u001b[0m",
      "\u001b[0;31mTypeError\u001b[0m: 'list' object is not callable"
     ]
    }
   ],
   "source": [
    "pd.Series(''.join(df['Artist.Name']).split()).value_counts()[:5]"
   ]
  },
  {
   "cell_type": "markdown",
   "metadata": {},
   "source": [
    "String Join() and String Splirt () :\n",
    "\n",
    "The join() method takes all items in an iterable and joins them into one string.\n",
    "\n",
    "A string must be specified as the separator.\n",
    "\n",
    "\n",
    "The split() method splits a string into a list.\n",
    "\n",
    "You can specify the separator, default separator is any whitespace.\n",
    "\n",
    "Note: When maxsplit is specified, the list will contain the specified number of elements plus one.\n",
    "\n",
    "\n",
    "\n",
    "The lower() method returns a string where all characters are lower case.\n",
    "\n",
    " Symbols and Numbers are ignored."
   ]
  },
  {
   "cell_type": "markdown",
   "metadata": {},
   "source": [
    "Looks like a lot of songs were featuring Justin Bieber! 🙉\n",
    "\n",
    "🧠🧠 Can you tell what's happening here? Take the time to go through each step. If you haven't seen them before, read about the [`.join()`](https://www.w3schools.com/python/ref_string_join.asp) and [`.split()`](https://www.w3schools.com/python/ref_string_split.asp) string methods.\n",
    "\n",
    "You might have noticed that `.describe()` returns a `DataFrame`... which means that we can manipulate and analyse it like any other pandas object!\n",
    "\n",
    "💪 Can you figure out which column has the highest mean? You can of course manually inspect the `.describe()` table, but you should write a function called `.highest_mean()` which takes the `describe_df`, and returns the _column name_ of the column with the highest mean value. You should be able to fit your code in one line!"
   ]
  },
  {
   "cell_type": "code",
   "execution_count": 41,
   "metadata": {},
   "outputs": [
    {
     "name": "stdout",
     "output_type": "stream",
     "text": [
      "Success! 🎉\n"
     ]
    }
   ],
   "source": [
    "def highest_mean(describe_df):\n",
    "    # INSERT YOUR CODE HERE\n",
    "    \n",
    "    hm = df.describe().loc['mean'].idxmax()\n",
    "    \n",
    "    \n",
    "    return hm\n",
    "    \n",
    "def test_highest_mean():\n",
    "    assert highest_mean(df.describe()) == 'Length.'\n",
    "    print('Success! 🎉')\n",
    "\n",
    "test_highest_mean()"
   ]
  },
  {
   "cell_type": "code",
   "execution_count": 52,
   "metadata": {},
   "outputs": [
    {
     "name": "stdout",
     "output_type": "stream",
     "text": [
      "22\n"
     ]
    }
   ],
   "source": [
    "#Lambda Functions :\n",
    "\n",
    "#The power of lambda is better shown when you use them as an anonymous function inside another function.\n",
    "\n",
    "def myfunc(n):\n",
    "  return lambda a : a * n\n",
    "\n",
    "mydoubler = myfunc(2)\n",
    "\n",
    "print(mydoubler(11))\n",
    "\n",
    "#Use lambda functions when an anonymous function is required for a short period of time."
   ]
  },
  {
   "cell_type": "markdown",
   "metadata": {},
   "source": [
    "The assert keyword is used when debugging code.\n",
    "\n",
    "The assert keyword lets you test if a condition in your code returns True, if not, the program will raise an AssertionError."
   ]
  },
  {
   "cell_type": "code",
   "execution_count": 60,
   "metadata": {},
   "outputs": [
    {
     "ename": "AssertionError",
     "evalue": "The input must be goodbye",
     "output_type": "error",
     "traceback": [
      "\u001b[0;31m---------------------------------------------------------------------------\u001b[0m",
      "\u001b[0;31mAssertionError\u001b[0m                            Traceback (most recent call last)",
      "\u001b[0;32m<ipython-input-60-a097e57039c7>\u001b[0m in \u001b[0;36m<module>\u001b[0;34m\u001b[0m\n\u001b[1;32m      2\u001b[0m \u001b[0;34m\u001b[0m\u001b[0m\n\u001b[1;32m      3\u001b[0m \u001b[0;31m#if condition returns False, AssertionError is raised:\u001b[0m\u001b[0;34m\u001b[0m\u001b[0;34m\u001b[0m\u001b[0;34m\u001b[0m\u001b[0m\n\u001b[0;32m----> 4\u001b[0;31m \u001b[0;32massert\u001b[0m \u001b[0mx\u001b[0m \u001b[0;34m==\u001b[0m \u001b[0;34m\"hello\"\u001b[0m \u001b[0;34m,\u001b[0m \u001b[0;34m\"The input must be goodbye\"\u001b[0m\u001b[0;34m\u001b[0m\u001b[0;34m\u001b[0m\u001b[0m\n\u001b[0m",
      "\u001b[0;31mAssertionError\u001b[0m: The input must be goodbye"
     ]
    }
   ],
   "source": [
    "x = \"goodbye\"\n",
    "\n",
    "#if condition returns False, AssertionError is raised:\n",
    "assert x == \"hello\" , \"The input must be goodbye\""
   ]
  },
  {
   "cell_type": "markdown",
   "metadata": {},
   "source": [
    "## 2. Group-By"
   ]
  },
  {
   "cell_type": "markdown",
   "metadata": {},
   "source": [
    "Calculating summary statistics for our dataset has given us a better understanding of the variables. However in data science, we often look to answer specific questions that provide _business value_. These questions are rarely as simple as \"what's the average bpm of the most popular songs of 2019?\". They often involve _combining_ statistics and aggregate measures of _several_ columns. For example, \"what's the most danceable genre?\". This kind of questions can bring real actionable insights to businesses, therefore knowing how to answer them is important!\n",
    "\n",
    "To calculate statistics over several columns, we need to understand the concept of _group-by_. According to the excellent pandas [documentation](https://pandas.pydata.org/pandas-docs/stable/user_guide/groupby.html), a group-by operation has three steps:\n",
    "> - Splitting the data into groups based on some criteria.  \n",
    "> - Applying a function to each group independently.  \n",
    "> - Combining the results into a data structure.\n",
    "\n",
    "So for the example of \"the most danceable genre\", we need to:\n",
    "- split the dataset by `Genre`\n",
    "- average the `Danceability` values to each `Genre` independently\n",
    "- concatenate those averages into a new dataframe with a `Genre` labeled index\n",
    "\n",
    "This only describes the group-by operation of course, and we'll still have to find the max `Danceability` row.\n",
    "\n",
    "Dancing put aside, the second group-by step (\"applying a function\") can take different forms. During this lecture we'll focus on _aggregation_ and _filtering_ functions."
   ]
  },
  {
   "cell_type": "markdown",
   "metadata": {},
   "source": [
    "### 2.1 Aggregation"
   ]
  },
  {
   "cell_type": "markdown",
   "metadata": {},
   "source": [
    "According to the documentation:\n",
    "\n",
    "> Aggregation functions compute a summary statistic (or statistics) for each group\n",
    "\n",
    "In other words, they are \"reduce\" type functions. Their input is a collection and they return a single value. Common examples of aggregation functions are the summary statistics we saw in section 1, i.e `.mean()`, `.std()`, `.max()`, ... Let's find out the most danceable genres by using an aggregation group-by on our dataset. \n",
    "\n",
    "In pandas, group-by starts with the [`.groupby()`](https://pandas.pydata.org/pandas-docs/stable/reference/api/pandas.DataFrame.groupby.html) method:"
   ]
  },
  {
   "cell_type": "code",
   "execution_count": 28,
   "metadata": {},
   "outputs": [
    {
     "data": {
      "text/plain": [
       "<pandas.core.groupby.generic.DataFrameGroupBy object at 0x7f689eb785e0>"
      ]
     },
     "execution_count": 28,
     "metadata": {},
     "output_type": "execute_result"
    }
   ],
   "source": [
    "df.groupby('Genre')"
   ]
  },
  {
   "cell_type": "markdown",
   "metadata": {},
   "source": [
    "It returns a `DataFrameGroupBy` object that has no readable output. One way of looking into this object is using known group _values_:"
   ]
  },
  {
   "cell_type": "code",
   "execution_count": 29,
   "metadata": {},
   "outputs": [
    {
     "data": {
      "text/html": [
       "<div>\n",
       "<style scoped>\n",
       "    .dataframe tbody tr th:only-of-type {\n",
       "        vertical-align: middle;\n",
       "    }\n",
       "\n",
       "    .dataframe tbody tr th {\n",
       "        vertical-align: top;\n",
       "    }\n",
       "\n",
       "    .dataframe thead th {\n",
       "        text-align: right;\n",
       "    }\n",
       "</style>\n",
       "<table border=\"1\" class=\"dataframe\">\n",
       "  <thead>\n",
       "    <tr style=\"text-align: right;\">\n",
       "      <th></th>\n",
       "      <th>Unnamed: 0</th>\n",
       "      <th>Track.Name</th>\n",
       "      <th>Artist.Name</th>\n",
       "      <th>Genre</th>\n",
       "      <th>Beats.Per.Minute</th>\n",
       "      <th>Energy</th>\n",
       "      <th>Danceability</th>\n",
       "      <th>Loudness..dB..</th>\n",
       "      <th>Liveness</th>\n",
       "      <th>Valence.</th>\n",
       "      <th>Length.</th>\n",
       "      <th>Acousticness..</th>\n",
       "      <th>Speechiness.</th>\n",
       "      <th>Popularity</th>\n",
       "    </tr>\n",
       "  </thead>\n",
       "  <tbody>\n",
       "    <tr>\n",
       "      <th>30</th>\n",
       "      <td>31</td>\n",
       "      <td>Takeaway</td>\n",
       "      <td>The Chainsmokers</td>\n",
       "      <td>edm</td>\n",
       "      <td>85</td>\n",
       "      <td>51</td>\n",
       "      <td>29</td>\n",
       "      <td>-8</td>\n",
       "      <td>10</td>\n",
       "      <td>36</td>\n",
       "      <td>210</td>\n",
       "      <td>12</td>\n",
       "      <td>4</td>\n",
       "      <td>84</td>\n",
       "    </tr>\n",
       "    <tr>\n",
       "      <th>40</th>\n",
       "      <td>41</td>\n",
       "      <td>Higher Love</td>\n",
       "      <td>Kygo</td>\n",
       "      <td>edm</td>\n",
       "      <td>104</td>\n",
       "      <td>68</td>\n",
       "      <td>69</td>\n",
       "      <td>-7</td>\n",
       "      <td>10</td>\n",
       "      <td>40</td>\n",
       "      <td>228</td>\n",
       "      <td>2</td>\n",
       "      <td>3</td>\n",
       "      <td>88</td>\n",
       "    </tr>\n",
       "    <tr>\n",
       "      <th>48</th>\n",
       "      <td>49</td>\n",
       "      <td>Call You Mine</td>\n",
       "      <td>The Chainsmokers</td>\n",
       "      <td>edm</td>\n",
       "      <td>104</td>\n",
       "      <td>70</td>\n",
       "      <td>59</td>\n",
       "      <td>-6</td>\n",
       "      <td>41</td>\n",
       "      <td>50</td>\n",
       "      <td>218</td>\n",
       "      <td>23</td>\n",
       "      <td>3</td>\n",
       "      <td>88</td>\n",
       "    </tr>\n",
       "  </tbody>\n",
       "</table>\n",
       "</div>"
      ],
      "text/plain": [
       "    Unnamed: 0     Track.Name       Artist.Name Genre  Beats.Per.Minute  \\\n",
       "30          31       Takeaway  The Chainsmokers   edm                85   \n",
       "40          41    Higher Love              Kygo   edm               104   \n",
       "48          49  Call You Mine  The Chainsmokers   edm               104   \n",
       "\n",
       "    Energy  Danceability  Loudness..dB..  Liveness  Valence.  Length.  \\\n",
       "30      51            29              -8        10        36      210   \n",
       "40      68            69              -7        10        40      228   \n",
       "48      70            59              -6        41        50      218   \n",
       "\n",
       "    Acousticness..  Speechiness.  Popularity  \n",
       "30              12             4          84  \n",
       "40               2             3          88  \n",
       "48              23             3          88  "
      ]
     },
     "execution_count": 29,
     "metadata": {},
     "output_type": "execute_result"
    }
   ],
   "source": [
    "df.groupby('Genre').get_group('edm')"
   ]
  },
  {
   "cell_type": "markdown",
   "metadata": {},
   "source": [
    "Here, we've accessed the `edm` group of the `GroupBy` object, which is equivalent to all the dataset rows with `Genre` == `edm`. This means that so far, we've only achieved the same a boolean mask selection. \n",
    "\n",
    "To truly leverage the hidden power of `.groupby()`, we have to \"apply functions to the groups independently\". This is done through methods on the `GroupBy` object. ([Here](https://pandas.pydata.org/pandas-docs/stable/reference/groupby.html)'s the complete list).\n",
    "\n",
    "Some of these methods are aggregation methods, such as `.mean()`. It will return the mean value of every column of the original `DataFrame` _per group_:"
   ]
  },
  {
   "cell_type": "code",
   "execution_count": 109,
   "metadata": {},
   "outputs": [
    {
     "data": {
      "text/html": [
       "<div>\n",
       "<style scoped>\n",
       "    .dataframe tbody tr th:only-of-type {\n",
       "        vertical-align: middle;\n",
       "    }\n",
       "\n",
       "    .dataframe tbody tr th {\n",
       "        vertical-align: top;\n",
       "    }\n",
       "\n",
       "    .dataframe thead th {\n",
       "        text-align: right;\n",
       "    }\n",
       "</style>\n",
       "<table border=\"1\" class=\"dataframe\">\n",
       "  <thead>\n",
       "    <tr style=\"text-align: right;\">\n",
       "      <th></th>\n",
       "      <th>Unnamed: 0</th>\n",
       "      <th>Beats.Per.Minute</th>\n",
       "      <th>Energy</th>\n",
       "      <th>Danceability</th>\n",
       "      <th>Loudness..dB..</th>\n",
       "      <th>Liveness</th>\n",
       "      <th>Valence.</th>\n",
       "      <th>Length.</th>\n",
       "      <th>Acousticness..</th>\n",
       "      <th>Speechiness.</th>\n",
       "      <th>Popularity</th>\n",
       "    </tr>\n",
       "    <tr>\n",
       "      <th>Genre</th>\n",
       "      <th></th>\n",
       "      <th></th>\n",
       "      <th></th>\n",
       "      <th></th>\n",
       "      <th></th>\n",
       "      <th></th>\n",
       "      <th></th>\n",
       "      <th></th>\n",
       "      <th></th>\n",
       "      <th></th>\n",
       "      <th></th>\n",
       "    </tr>\n",
       "  </thead>\n",
       "  <tbody>\n",
       "    <tr>\n",
       "      <th>atl hip hop</th>\n",
       "      <td>34.0</td>\n",
       "      <td>98.0</td>\n",
       "      <td>59.0</td>\n",
       "      <td>80.0</td>\n",
       "      <td>-7.0</td>\n",
       "      <td>13.0</td>\n",
       "      <td>18.0</td>\n",
       "      <td>200.0</td>\n",
       "      <td>2.0</td>\n",
       "      <td>15.0</td>\n",
       "      <td>89.0</td>\n",
       "    </tr>\n",
       "    <tr>\n",
       "      <th>australian pop</th>\n",
       "      <td>27.0</td>\n",
       "      <td>98.0</td>\n",
       "      <td>59.0</td>\n",
       "      <td>82.0</td>\n",
       "      <td>-6.0</td>\n",
       "      <td>18.0</td>\n",
       "      <td>54.0</td>\n",
       "      <td>210.0</td>\n",
       "      <td>69.0</td>\n",
       "      <td>10.0</td>\n",
       "      <td>83.0</td>\n",
       "    </tr>\n",
       "    <tr>\n",
       "      <th>big room</th>\n",
       "      <td>36.0</td>\n",
       "      <td>114.0</td>\n",
       "      <td>72.0</td>\n",
       "      <td>66.0</td>\n",
       "      <td>-7.0</td>\n",
       "      <td>14.0</td>\n",
       "      <td>32.0</td>\n",
       "      <td>164.0</td>\n",
       "      <td>18.0</td>\n",
       "      <td>6.0</td>\n",
       "      <td>89.0</td>\n",
       "    </tr>\n",
       "    <tr>\n",
       "      <th>boy band</th>\n",
       "      <td>39.0</td>\n",
       "      <td>138.0</td>\n",
       "      <td>73.0</td>\n",
       "      <td>84.0</td>\n",
       "      <td>-5.0</td>\n",
       "      <td>11.0</td>\n",
       "      <td>95.0</td>\n",
       "      <td>181.0</td>\n",
       "      <td>4.0</td>\n",
       "      <td>6.0</td>\n",
       "      <td>80.0</td>\n",
       "    </tr>\n",
       "    <tr>\n",
       "      <th>brostep</th>\n",
       "      <td>47.0</td>\n",
       "      <td>94.0</td>\n",
       "      <td>70.5</td>\n",
       "      <td>67.5</td>\n",
       "      <td>-2.5</td>\n",
       "      <td>37.5</td>\n",
       "      <td>55.5</td>\n",
       "      <td>198.0</td>\n",
       "      <td>13.0</td>\n",
       "      <td>5.0</td>\n",
       "      <td>88.0</td>\n",
       "    </tr>\n",
       "  </tbody>\n",
       "</table>\n",
       "</div>"
      ],
      "text/plain": [
       "                Unnamed: 0  Beats.Per.Minute  Energy  Danceability  \\\n",
       "Genre                                                                \n",
       "atl hip hop           34.0              98.0    59.0          80.0   \n",
       "australian pop        27.0              98.0    59.0          82.0   \n",
       "big room              36.0             114.0    72.0          66.0   \n",
       "boy band              39.0             138.0    73.0          84.0   \n",
       "brostep               47.0              94.0    70.5          67.5   \n",
       "\n",
       "                Loudness..dB..  Liveness  Valence.  Length.  Acousticness..  \\\n",
       "Genre                                                                         \n",
       "atl hip hop               -7.0      13.0      18.0    200.0             2.0   \n",
       "australian pop            -6.0      18.0      54.0    210.0            69.0   \n",
       "big room                  -7.0      14.0      32.0    164.0            18.0   \n",
       "boy band                  -5.0      11.0      95.0    181.0             4.0   \n",
       "brostep                   -2.5      37.5      55.5    198.0            13.0   \n",
       "\n",
       "                Speechiness.  Popularity  \n",
       "Genre                                     \n",
       "atl hip hop             15.0        89.0  \n",
       "australian pop          10.0        83.0  \n",
       "big room                 6.0        89.0  \n",
       "boy band                 6.0        80.0  \n",
       "brostep                  5.0        88.0  "
      ]
     },
     "execution_count": 109,
     "metadata": {},
     "output_type": "execute_result"
    }
   ],
   "source": [
    "df.groupby('Genre').mean().head()"
   ]
  },
  {
   "cell_type": "markdown",
   "metadata": {},
   "source": [
    "Notice how the `Genre` is now the index of the returned `DataFrame`. We can already use this to mine for patterns and trends. For instance, you might observe that `edm` is less danceable than `country rap`... 🤠\n",
    "\n",
    "Let's build a ranking of the 5 most danceable genres. Since the object returned by the `.mean()` method on the `GroupBy` is a `DataFrame`, we can use our trusted selection and sorting methods:"
   ]
  },
  {
   "cell_type": "code",
   "execution_count": 110,
   "metadata": {},
   "outputs": [
    {
     "data": {
      "text/plain": [
       "Genre\n",
       "r&b en espanol    88.0\n",
       "boy band          84.0\n",
       "australian pop    82.0\n",
       "atl hip hop       80.0\n",
       "reggaeton flow    80.0\n",
       "Name: Danceability, dtype: float64"
      ]
     },
     "execution_count": 110,
     "metadata": {},
     "output_type": "execute_result"
    }
   ],
   "source": [
    "df_by_genre = df.groupby(by='Genre').mean()\n",
    "df_by_genre['Danceability'].sort_values(ascending=False)[:5]"
   ]
  },
  {
   "cell_type": "markdown",
   "metadata": {},
   "source": [
    "Congratulations to Spanish R&B for lighting up the clubs in 2019! 🔥"
   ]
  },
  {
   "cell_type": "markdown",
   "metadata": {},
   "source": [
    "### 2.2 Filtration\n",
    "\n",
    "Sad songs are canceled 🙅‍♀️! 2020 has been too much already, and in an effort to lift our spirits, we decide to ban all music genres that create negative music. This means that the summary table we obtained with `.describe()` isn't valid anymore... those negative genres shouldn't be counted in the statistics! \n",
    "\n",
    "Luckily our dataset has a `Valence` column, which according to its [online description](https://www.kaggle.com/leonardopena/top50spotify2019):\n",
    "\n",
    "> The higher the value, the more positive mood for the song.\n",
    "\n",
    "Perfect! We know from our summary statistics that the 25% percentile for this variable is at 38.25. Let's filter out genres where the mean `Valence` < 40, and that should leave us with positive mindsets only 🙃.\n",
    "\n",
    "This is an example of a _filtration_ function in a group-py operation. Its input is a collection of values and it returns a boolean value, depending on if the _group_ should be filtered or not.\n",
    "\n",
    "Group-by filtration in pandas uses the [`.filter()`](https://pandas.pydata.org/pandas-docs/stable/user_guide/groupby.html#filtration) method. It takes a [`lambda function`](https://stackoverflow.com/questions/16501/what-is-a-lambda-function) as input, and returns the filtered and concatenated dataframe. The lambda will operate on each group independently. In our case, we wish our lambda to do two things:\n",
    "- calculate the mean of the `Valence`\n",
    "- return False if the mean < 40\n",
    "\n",
    "We can write it all in one line as such:"
   ]
  },
  {
   "cell_type": "code",
   "execution_count": 42,
   "metadata": {},
   "outputs": [
    {
     "data": {
      "text/html": [
       "<div>\n",
       "<style scoped>\n",
       "    .dataframe tbody tr th:only-of-type {\n",
       "        vertical-align: middle;\n",
       "    }\n",
       "\n",
       "    .dataframe tbody tr th {\n",
       "        vertical-align: top;\n",
       "    }\n",
       "\n",
       "    .dataframe thead th {\n",
       "        text-align: right;\n",
       "    }\n",
       "</style>\n",
       "<table border=\"1\" class=\"dataframe\">\n",
       "  <thead>\n",
       "    <tr style=\"text-align: right;\">\n",
       "      <th></th>\n",
       "      <th>Unnamed: 0</th>\n",
       "      <th>Track.Name</th>\n",
       "      <th>Artist.Name</th>\n",
       "      <th>Genre</th>\n",
       "      <th>Beats.Per.Minute</th>\n",
       "      <th>Energy</th>\n",
       "      <th>Danceability</th>\n",
       "      <th>Loudness..dB..</th>\n",
       "      <th>Liveness</th>\n",
       "      <th>Valence.</th>\n",
       "      <th>Length.</th>\n",
       "      <th>Acousticness..</th>\n",
       "      <th>Speechiness.</th>\n",
       "      <th>Popularity</th>\n",
       "    </tr>\n",
       "  </thead>\n",
       "  <tbody>\n",
       "    <tr>\n",
       "      <th>0</th>\n",
       "      <td>1</td>\n",
       "      <td>Señorita</td>\n",
       "      <td>Shawn Mendes</td>\n",
       "      <td>canadian pop</td>\n",
       "      <td>117</td>\n",
       "      <td>55</td>\n",
       "      <td>76</td>\n",
       "      <td>-6</td>\n",
       "      <td>8</td>\n",
       "      <td>75</td>\n",
       "      <td>191</td>\n",
       "      <td>4</td>\n",
       "      <td>3</td>\n",
       "      <td>79</td>\n",
       "    </tr>\n",
       "    <tr>\n",
       "      <th>1</th>\n",
       "      <td>2</td>\n",
       "      <td>China</td>\n",
       "      <td>Anuel AA</td>\n",
       "      <td>reggaeton flow</td>\n",
       "      <td>105</td>\n",
       "      <td>81</td>\n",
       "      <td>79</td>\n",
       "      <td>-4</td>\n",
       "      <td>8</td>\n",
       "      <td>61</td>\n",
       "      <td>302</td>\n",
       "      <td>8</td>\n",
       "      <td>9</td>\n",
       "      <td>92</td>\n",
       "    </tr>\n",
       "    <tr>\n",
       "      <th>2</th>\n",
       "      <td>3</td>\n",
       "      <td>boyfriend (with Social House)</td>\n",
       "      <td>Ariana Grande</td>\n",
       "      <td>dance pop</td>\n",
       "      <td>190</td>\n",
       "      <td>80</td>\n",
       "      <td>40</td>\n",
       "      <td>-4</td>\n",
       "      <td>16</td>\n",
       "      <td>70</td>\n",
       "      <td>186</td>\n",
       "      <td>12</td>\n",
       "      <td>46</td>\n",
       "      <td>85</td>\n",
       "    </tr>\n",
       "    <tr>\n",
       "      <th>3</th>\n",
       "      <td>4</td>\n",
       "      <td>Beautiful People (feat. Khalid)</td>\n",
       "      <td>Ed Sheeran</td>\n",
       "      <td>pop</td>\n",
       "      <td>93</td>\n",
       "      <td>65</td>\n",
       "      <td>64</td>\n",
       "      <td>-8</td>\n",
       "      <td>8</td>\n",
       "      <td>55</td>\n",
       "      <td>198</td>\n",
       "      <td>12</td>\n",
       "      <td>19</td>\n",
       "      <td>86</td>\n",
       "    </tr>\n",
       "    <tr>\n",
       "      <th>4</th>\n",
       "      <td>5</td>\n",
       "      <td>Goodbyes (Feat. Young Thug)</td>\n",
       "      <td>Post Malone</td>\n",
       "      <td>dfw rap</td>\n",
       "      <td>150</td>\n",
       "      <td>65</td>\n",
       "      <td>58</td>\n",
       "      <td>-4</td>\n",
       "      <td>11</td>\n",
       "      <td>18</td>\n",
       "      <td>175</td>\n",
       "      <td>45</td>\n",
       "      <td>7</td>\n",
       "      <td>94</td>\n",
       "    </tr>\n",
       "  </tbody>\n",
       "</table>\n",
       "</div>"
      ],
      "text/plain": [
       "   Unnamed: 0                       Track.Name    Artist.Name           Genre  \\\n",
       "0           1                         Señorita   Shawn Mendes    canadian pop   \n",
       "1           2                            China       Anuel AA  reggaeton flow   \n",
       "2           3    boyfriend (with Social House)  Ariana Grande       dance pop   \n",
       "3           4  Beautiful People (feat. Khalid)     Ed Sheeran             pop   \n",
       "4           5      Goodbyes (Feat. Young Thug)    Post Malone         dfw rap   \n",
       "\n",
       "   Beats.Per.Minute  Energy  Danceability  Loudness..dB..  Liveness  Valence.  \\\n",
       "0               117      55            76              -6         8        75   \n",
       "1               105      81            79              -4         8        61   \n",
       "2               190      80            40              -4        16        70   \n",
       "3                93      65            64              -8         8        55   \n",
       "4               150      65            58              -4        11        18   \n",
       "\n",
       "   Length.  Acousticness..  Speechiness.  Popularity  \n",
       "0      191               4             3          79  \n",
       "1      302               8             9          92  \n",
       "2      186              12            46          85  \n",
       "3      198              12            19          86  \n",
       "4      175              45             7          94  "
      ]
     },
     "execution_count": 42,
     "metadata": {},
     "output_type": "execute_result"
    }
   ],
   "source": [
    "happy_df = df.groupby('Genre').filter(lambda df: df['Valence.'].mean() > 40.)\n",
    "happy_df.head()"
   ]
  },
  {
   "cell_type": "markdown",
   "metadata": {},
   "source": [
    "This looks similar to before, but if we take a closer look at the shape of the new `DataFrame`, we can notice that some rows were removed:"
   ]
  },
  {
   "cell_type": "code",
   "execution_count": 43,
   "metadata": {},
   "outputs": [
    {
     "data": {
      "text/plain": [
       "(44, 14)"
      ]
     },
     "execution_count": 43,
     "metadata": {},
     "output_type": "execute_result"
    }
   ],
   "source": [
    "happy_df.shape"
   ]
  },
  {
   "cell_type": "code",
   "execution_count": 50,
   "metadata": {},
   "outputs": [
    {
     "data": {
      "text/plain": [
       "(6, 14)"
      ]
     },
     "execution_count": 50,
     "metadata": {},
     "output_type": "execute_result"
    }
   ],
   "source": [
    "df_sad = df.groupby('Genre').filter(lambda df: df['Valence.'].mean()<40.)\n",
    "df_sad.head()\n",
    "df_sad.shape"
   ]
  },
  {
   "cell_type": "code",
   "execution_count": 131,
   "metadata": {},
   "outputs": [
    {
     "data": {
      "text/plain": [
       "6           trap music\n",
       "14    canadian hip hop\n",
       "18    canadian hip hop\n",
       "27    canadian hip hop\n",
       "33         atl hip hop\n",
       "35            big room\n",
       "Name: Genre, dtype: object"
      ]
     },
     "execution_count": 131,
     "metadata": {},
     "output_type": "execute_result"
    }
   ],
   "source": [
    "#Finding the difference between two data frames using concat and drop_duplicates()\n",
    "Difference_df = pd.concat([df,happy_df]).drop_duplicates(keep = False)\n",
    "\n",
    "sad_gr = Difference_df['Genre']\n",
    "\n",
    "sad_gr\n",
    "\n"
   ]
  },
  {
   "cell_type": "markdown",
   "metadata": {},
   "source": [
    "We did it! No more sad genres to poison our souls, only shiny happy people holding hands 🙆‍♂️\n",
    "\n",
    "💪 Can you figure out which genres we have banned? You could try to find the differences between `df` and `happy_df`, or use group-by with aggregation function `.mean()` to find the genres with `Valence.` < 40.\n",
    "\n",
    "💪💪 A radio station is updating their strategy, and need to know the total airtime of each genre. Let's assume that our dataset is the complete list of songs they have played recently. In the cell below, write a function that takes our dataset, and returns a `Series` with `Genre` as index, and the summed `Length.` of each genre's songs as data."
   ]
  },
  {
   "cell_type": "code",
   "execution_count": 20,
   "metadata": {},
   "outputs": [
    {
     "name": "stdout",
     "output_type": "stream",
     "text": [
      "Success! 🎉\n",
      "The top 5 genres with the most airtime are:\n",
      "\n",
      "Genre\n",
      "dance pop         1621\n",
      "pop               1368\n",
      "latin             1126\n",
      "edm                656\n",
      "reggaeton flow     611\n",
      "Name: Length., dtype: int64\n"
     ]
    }
   ],
   "source": [
    "def analyse_airtime(df):\n",
    "    # INSERT CODE HERE\n",
    "    df_by_genre = df.groupby(by='Genre')\n",
    "    length_df = df_by_genre['Length.'].sum()\n",
    "       \n",
    "   \n",
    "    return pd.Series(length_df)\n",
    "\n",
    "def test_analyse_airtime():\n",
    "    airtime_df = analyse_airtime(df)\n",
    "    assert airtime_df.loc['edm'] == 656\n",
    "    print('Success! 🎉')\n",
    "    print('The top 5 genres with the most airtime are:\\n')\n",
    "    print(airtime_df.sort_values(ascending=False)[:5])\n",
    "\n",
    "test_analyse_airtime()"
   ]
  },
  {
   "cell_type": "markdown",
   "metadata": {},
   "source": [
    "## 3. Correlation\n",
    "\n",
    "A common question asked about data is how some columns relate to others. Correlation is a statistical measure of how changes in one variable coincide with changes in another. This can be useful for prediction, modeling, inference, or just understanding more about the processes described by the data. Realpython has a great in-depth tutorial [here](https://realpython.com/numpy-scipy-pandas-correlation-python/) which explains correlation and how to measure it in python.\n",
    "\n",
    "Let's imagine we are trying to understand more about music through our dataset. We are trying to get a \"feel\" of the mechanisms behind our variables. We hypothesize that the biggest factor affecting danceability is a steady, snappy, fast beat. 🥁 We also believe that fast beats are a good indicator of a song with high energy. Therefore, we guess that `Energy` is _positively correlated_ with `Danceability`. But these are all suppositions. We'd like a quick sanity check on our \"theory of music\" by exploring the data.\n",
    "\n",
    "One way of assessing correlation is to plot the variables in question:\n",
    "\n"
   ]
  },
  {
   "cell_type": "code",
   "execution_count": 21,
   "metadata": {},
   "outputs": [
    {
     "data": {
      "text/plain": [
       "<matplotlib.axes._subplots.AxesSubplot at 0x7fe3cb2a3820>"
      ]
     },
     "execution_count": 21,
     "metadata": {},
     "output_type": "execute_result"
    },
    {
     "data": {
      "image/png": "[encoded data removed]",
      "text/plain": [
       "<Figure size 432x288 with 1 Axes>"
      ]
     },
     "metadata": {
      "needs_background": "light"
     },
     "output_type": "display_data"
    }
   ],
   "source": [
    "df[['Energy', 'Danceability']].plot.line()"
   ]
  },
  {
   "cell_type": "markdown",
   "metadata": {},
   "source": [
    "Highly positively correlated lines are expected to vary in the same direction at the same time. It is not so clear here, so we can view a scatter plot instead:"
   ]
  },
  {
   "cell_type": "code",
   "execution_count": 22,
   "metadata": {},
   "outputs": [
    {
     "data": {
      "text/plain": [
       "<matplotlib.axes._subplots.AxesSubplot at 0x7fe3f1263430>"
      ]
     },
     "execution_count": 22,
     "metadata": {},
     "output_type": "execute_result"
    },
    {
     "data": {
      "image/png": "[encoded data removed]",
      "text/plain": [
       "<Figure size 432x288 with 1 Axes>"
      ]
     },
     "metadata": {
      "needs_background": "light"
     },
     "output_type": "display_data"
    }
   ],
   "source": [
    "df.plot.scatter(x='Energy', y='Danceability')"
   ]
  },
  {
   "cell_type": "markdown",
   "metadata": {},
   "source": [
    "By plotting the `Danceability` vs the `Energy`, we can see that there is no apparent correlation between the variables. \n",
    "\n",
    "This leads us to rethink our theory of `Energy`. Perhaps high energy is less about the rhythmic section, and more about the tonality and the harmonics of the song. In this case, we expect `Energy` to be positively correlated with `Valence.` which describes the \"positivity\" of the tune.\n",
    "\n",
    "Let's take a look at the scatter plot:"
   ]
  },
  {
   "cell_type": "code",
   "execution_count": 23,
   "metadata": {},
   "outputs": [
    {
     "data": {
      "text/plain": [
       "<matplotlib.axes._subplots.AxesSubplot at 0x7fe3c7eea100>"
      ]
     },
     "execution_count": 23,
     "metadata": {},
     "output_type": "execute_result"
    },
    {
     "data": {
      "image/png": "[encoded data removed]",
      "text/plain": [
       "<Figure size 432x288 with 1 Axes>"
      ]
     },
     "metadata": {
      "needs_background": "light"
     },
     "output_type": "display_data"
    }
   ],
   "source": [
    "df.plot.scatter(x='Energy', y='Valence.')"
   ]
  },
  {
   "cell_type": "markdown",
   "metadata": {},
   "source": [
    "The correlation is not strong, but we can notice a general trend: when `Energy` is high, `Valence.` is more likely to be high too. pandas also offers methods to directly measure the correlation between variables:"
   ]
  },
  {
   "cell_type": "code",
   "execution_count": 24,
   "metadata": {},
   "outputs": [
    {
     "data": {
      "text/plain": [
       "0.43881958610521754"
      ]
     },
     "execution_count": 24,
     "metadata": {},
     "output_type": "execute_result"
    }
   ],
   "source": [
    "df['Energy'].corr(df['Valence.'])"
   ]
  },
  {
   "cell_type": "code",
   "execution_count": 26,
   "metadata": {},
   "outputs": [
    {
     "data": {
      "text/plain": [
       "0.01825357584565256"
      ]
     },
     "execution_count": 26,
     "metadata": {},
     "output_type": "execute_result"
    }
   ],
   "source": [
    "df['Energy'].corr(df['Danceability'])"
   ]
  },
  {
   "cell_type": "markdown",
   "metadata": {},
   "source": [
    "Here, we measured the pearson r between `Energy` and `Valence.`, showing indeed that the two are positively correlated. \n",
    "\n",
    "⚠️ Analysing correlations of variable is an entire field of statistics requiring formal tests and techniques. This was a simple example of how pandas makes it easy to explore various aspects of a dataset, including relationships between variables, and is in no way a replacement for sound statistical analysis."
   ]
  },
  {
   "cell_type": "markdown",
   "metadata": {},
   "source": [
    "## 4. Calculating New Variables\n",
    "\n",
    "We've covered several ways of getting insights from the dataset. But wouldn't it be cool if we could _add_ insights to the dataset? 😎\n",
    "\n",
    "We'll often need to save new variables. This could be because we're adding useful statistics, or calculating new values entirely. \n",
    "\n",
    "### 4.1 Normalisation\n",
    "\n",
    "Normalisation is common in machine learning because of a process called [feature scaling](https://en.wikipedia.org/wiki/Feature_scaling). In short, some models train better if variables have means ~ 0 and standard deviations ~ 1. Let's normalise our `Energy` column!\n",
    "\n",
    "First we need to define a normalisation function. In this case, we'll use [z-score normalisation](https://en.wikipedia.org/wiki/Feature_scaling#Standardization_(Z-score_Normalization))."
   ]
  },
  {
   "cell_type": "code",
   "execution_count": 27,
   "metadata": {},
   "outputs": [],
   "source": [
    "def normalise(x, mean, std):\n",
    "    return (x - mean) / std"
   ]
  },
  {
   "cell_type": "markdown",
   "metadata": {},
   "source": [
    "To apply this function on our `Energy`, we need to know the mean and the standard deviation of the column."
   ]
  },
  {
   "cell_type": "code",
   "execution_count": 28,
   "metadata": {},
   "outputs": [],
   "source": [
    "mean = df['Energy'].mean()\n",
    "std = df['Energy'].std()"
   ]
  },
  {
   "cell_type": "markdown",
   "metadata": {},
   "source": [
    "Now, we can wrap our function, `mean` value, and `std` value in a `lambda`. Then we can use this `lambda` in the `.apply()` method, which will calculate the normalised `Energy` values for each row. Finally, we can assign the returned `Series` to a new column name:"
   ]
  },
  {
   "cell_type": "code",
   "execution_count": 29,
   "metadata": {},
   "outputs": [
    {
     "data": {
      "text/plain": [
       "0   -0.636597\n",
       "1    1.190283\n",
       "2    1.120018\n",
       "3    0.066049\n",
       "4    0.066049\n",
       "Name: Energy.Norm, dtype: float64"
      ]
     },
     "execution_count": 29,
     "metadata": {},
     "output_type": "execute_result"
    }
   ],
   "source": [
    "df['Energy.Norm'] = df['Energy'].apply(lambda x: normalise(x, mean, std))\n",
    "df['Energy.Norm'].head()"
   ]
  },
  {
   "cell_type": "markdown",
   "metadata": {},
   "source": [
    "Let's check that the new column is indeed normalised:"
   ]
  },
  {
   "cell_type": "code",
   "execution_count": 30,
   "metadata": {},
   "outputs": [
    {
     "name": "stdout",
     "output_type": "stream",
     "text": [
      "This is the normalised mean:\n",
      "-1.6431300764452317e-16\n",
      "This is the normalised standard deviation:\n",
      "0.9999999999999999\n"
     ]
    }
   ],
   "source": [
    "print('This is the normalised mean:')\n",
    "print(df['Energy.Norm'].mean())\n",
    "print('This is the normalised standard deviation:')\n",
    "print(df['Energy.Norm'].std())"
   ]
  },
  {
   "cell_type": "markdown",
   "metadata": {},
   "source": [
    "If we ignore the floating precision, those values look good! 🎊 We can also directly check the effect of normalisation on the distribution of the variable:"
   ]
  },
  {
   "cell_type": "code",
   "execution_count": 31,
   "metadata": {},
   "outputs": [
    {
     "data": {
      "text/plain": [
       "<matplotlib.axes._subplots.AxesSubplot at 0x7fe3c7e57610>"
      ]
     },
     "execution_count": 31,
     "metadata": {},
     "output_type": "execute_result"
    },
    {
     "data": {
      "image/png": "[encoded data removed]",
      "text/plain": [
       "<Figure size 432x288 with 1 Axes>"
      ]
     },
     "metadata": {
      "needs_background": "light"
     },
     "output_type": "display_data"
    }
   ],
   "source": [
    "df['Energy'].plot.hist()"
   ]
  },
  {
   "cell_type": "code",
   "execution_count": 32,
   "metadata": {},
   "outputs": [
    {
     "data": {
      "text/plain": [
       "<matplotlib.axes._subplots.AxesSubplot at 0x7fe3c7d620a0>"
      ]
     },
     "execution_count": 32,
     "metadata": {},
     "output_type": "execute_result"
    },
    {
     "data": {
      "image/png": "[encoded data removed]",
      "text/plain": [
       "<Figure size 432x288 with 1 Axes>"
      ]
     },
     "metadata": {
      "needs_background": "light"
     },
     "output_type": "display_data"
    }
   ],
   "source": [
    "df['Energy.Norm'].plot.hist()"
   ]
  },
  {
   "cell_type": "markdown",
   "metadata": {},
   "source": [
    "As expected, the distribution _shape_ remains unchanged, but its x-axis range is shifted to be centered around 0 and standard deviation = 1. And that should make our ML models happy 😃\n",
    "\n",
    "### 4.2 Calculating a New Variable\n",
    "\n",
    "📢 The data scientists at spotify have made a new discovery!  \n",
    "How lit 🔥 a song is can be calculated using the following equation:\n",
    "\n",
    "$$\n",
    "🔥 = 0.1337 \\times \\frac{(danceability + popularity)}{(- loudness)}\n",
    "$$\n",
    "\n",
    "We would like to add this to our dataset so that we can display the \"litness\" of a song to users.\n",
    "\n",
    "💪💪 Create a new column called `Litness` in the dataset. To achieve this, complete the `.litness()` function below. Then use `.apply()` to apply the function to our dataset. Pro-tip: Think about the input to your `lambda` function. Extra-tip: Since `litness` is a function that requires data from several columns, we want to apply it per row. i.e You'll need to use `axis=1` here... \n",
    "\n",
    "💪 What's the most lit song of 2019?"
   ]
  },
  {
   "cell_type": "code",
   "execution_count": 18,
   "metadata": {},
   "outputs": [
    {
     "name": "stdout",
     "output_type": "stream",
     "text": [
      "Success! 🎉\n",
      "\n",
      "The most lit song of 2019 is:\n",
      "Unnamed: 0                          14\n",
      "Track.Name          Otro Trago - Remix\n",
      "Artist.Name                       Sech\n",
      "Genre                   panamanian pop\n",
      "Beats.Per.Minute                   176\n",
      "Energy                              79\n",
      "Danceability                        73\n",
      "Loudness..dB..                      -2\n",
      "Liveness                             6\n",
      "Valence.                            76\n",
      "Length.                            288\n",
      "Acousticness..                       7\n",
      "Speechiness.                        20\n",
      "Popularity                          87\n",
      "Litness                         10.696\n",
      "Name: 13, dtype: object\n"
     ]
    }
   ],
   "source": [
    "import math\n",
    "\n",
    "def litness(danceability, popularity,loudness):\n",
    "    # INSERT YOUR CODE HERE\n",
    "    return 0.1337*((danceability + popularity)/(-loudness))\n",
    "\n",
    "def add_litness(df):\n",
    "    # INSERT YOUR CODE HERE\n",
    "                      \n",
    "    df['Litness']= df.apply(lambda row: litness(row['Danceability'],row['Popularity'],row['Loudness..dB..']),axis = 1)\n",
    "    \n",
    "    return df\n",
    "\n",
    "def test_litness():\n",
    "    lit_df = add_litness(df)\n",
    "    assert lit_df['Litness'].idxmax() == 13\n",
    "    assert math.isclose(lit_df.loc[13, 'Litness'], 10.696)\n",
    "    print('Success! 🎉')\n",
    "    print('\\nThe most lit song of 2019 is:')\n",
    "    print(lit_df.loc[13])\n",
    "\n",
    "test_litness()"
   ]
  },
  {
   "cell_type": "markdown",
   "metadata": {},
   "source": [
    "## 5. Summary\n",
    "\n",
    "Today, we carried out a comprehensive data exploration of **tabular data**. First, we calculated **summary statistics** to get an overview of the values in our pandas `DataFrame`. We also learned the **group-by** process, and used it to **answer questions** about the dataset. Then, we probed how several variables **correlated** to one another. Finally, we **normalised** a column, and **calculated a new variable** using a mathematical model. Overall, we got a pretty good idea of what music was popular in 2019. 🔥\n",
    "\n",
    "This concludes the data exploration section about tabular data. You should have all the tools necessary to manipulate tables in python using pandas. Next, we will focus on other data types, such as time series, text, images, and geospatial data.\n",
    "\n",
    "\n",
    "# Resources\n",
    "\n",
    "## Core Resources\n",
    "- [Exploratory data analysis notebook](https://nbviewer.jupyter.org/github/Tanu-N-Prabhu/Python/blob/master/Exploratory_data_Analysis.ipynb)  \n",
    "A great example of data exploration carried out using pandas\n",
    "- [Python data science handbook](https://jakevdp.github.io/PythonDataScienceHandbook/03.00-introduction-to-pandas.html)  \n",
    "The python data science handbook introduction to pandas.\n",
    "\n",
    "## Additional Resources\n",
    "\n",
    "- [auqntecon pandas course](https://python-programming.quantecon.org/pandas.html)\n",
    "Jupyter notebook with basic financial analysis using pandas\n",
    "- [Pandas tutorial](https://bitbucket.org/hrojas/learn-pandas/src/master/)\n",
    "- [Exploratory data analysis with pandas](https://www.kaggle.com/kashnitsky/topic-1-exploratory-data-analysis-with-pandas)  \n",
    "In-depth Kaggle kernel of example data exploration with pandas\n"
   ]
  }
 ],
 "metadata": {
  "kernelspec": {
   "display_name": "Python 3",
   "language": "python",
   "name": "python3"
  },
  "language_info": {
   "codemirror_mode": {
    "name": "ipython",
    "version": 3
   },
   "file_extension": ".py",
   "mimetype": "text/x-python",
   "name": "python",
   "nbconvert_exporter": "python",
   "pygments_lexer": "ipython3",
   "version": "3.8.2"
  }
 },
 "nbformat": 4,
 "nbformat_minor": 4
}
